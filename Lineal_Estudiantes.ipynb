{
 "cells": [
  {
   "cell_type": "markdown",
   "id": "85d30381",
   "metadata": {},
   "source": [
    "# ✨Dataset Estudiantes✨ <img src=\"https://raw.githubusercontent.com/cgiohidalgo/JupyterHub-nbgrader/main/logo.png\" alt=\"udenar\" width=\"180\"/>\n",
    "<div style=\"text-align: center\"> MODULO DE ANALÍTICA DE DATOS</div>\n",
    "<div style=\"text-align: center\"> Maestría de Ingeniería de Sistemas y Computación </div>\n",
    " <div style=\"text-align: center\">Victor Bucheli (victor.bucheli@correounivalle.edu.co) - Giovanny Hidalgo (carlos.hidalgo@correounivalle.edu.co)\n",
    "</div>"
   ]
  },
  {
   "cell_type": "markdown",
   "id": "f618a894",
   "metadata": {},
   "source": [
    "**Estudiantes** \n",
    "   * Sandra Marcela Guerrero\n",
    "   * Juan David Delgado\n",
    "   * Wilmer Alexander Escobar"
   ]
  },
  {
   "cell_type": "code",
   "execution_count": 2,
   "id": "3f94a8f8",
   "metadata": {},
   "outputs": [],
   "source": [
    "import pandas as pd\n",
    "import numpy as np\n",
    "from sklearn import datasets, linear_model\n",
    "from sklearn.metrics import mean_squared_error, r2_score\n",
    "from sklearn.model_selection import train_test_split\n",
    "from sklearn.linear_model import LinearRegression\n",
    "import matplotlib.pyplot as plt\n",
    "%matplotlib inline"
   ]
  },
  {
   "cell_type": "markdown",
   "id": "64d1bbbc",
   "metadata": {},
   "source": [
    "# Carga de datos"
   ]
  },
  {
   "cell_type": "code",
   "execution_count": 5,
   "id": "7a64bbc2",
   "metadata": {},
   "outputs": [],
   "source": [
    "#Cargar archivos\n",
    "datos = pd.read_csv(\"Dataset/estudiantes_final.csv\", sep=\",\")"
   ]
  },
  {
   "cell_type": "code",
   "execution_count": 6,
   "id": "edd7ef2a",
   "metadata": {},
   "outputs": [
    {
     "data": {
      "text/html": [
       "<div>\n",
       "<style scoped>\n",
       "    .dataframe tbody tr th:only-of-type {\n",
       "        vertical-align: middle;\n",
       "    }\n",
       "\n",
       "    .dataframe tbody tr th {\n",
       "        vertical-align: top;\n",
       "    }\n",
       "\n",
       "    .dataframe thead th {\n",
       "        text-align: right;\n",
       "    }\n",
       "</style>\n",
       "<table border=\"1\" class=\"dataframe\">\n",
       "  <thead>\n",
       "    <tr style=\"text-align: right;\">\n",
       "      <th></th>\n",
       "      <th>Error1</th>\n",
       "      <th>Error2</th>\n",
       "      <th>Error3</th>\n",
       "      <th>Aceptado</th>\n",
       "      <th>Parcial1</th>\n",
       "      <th>Parcial2</th>\n",
       "      <th>Final</th>\n",
       "      <th>Tiempo</th>\n",
       "      <th>GanaCurso</th>\n",
       "      <th>Entregas</th>\n",
       "    </tr>\n",
       "  </thead>\n",
       "  <tbody>\n",
       "    <tr>\n",
       "      <th>0</th>\n",
       "      <td>3.0</td>\n",
       "      <td>1.0</td>\n",
       "      <td>0.0</td>\n",
       "      <td>2</td>\n",
       "      <td>3.00</td>\n",
       "      <td>3.000</td>\n",
       "      <td>3.0000</td>\n",
       "      <td>48.97</td>\n",
       "      <td>1</td>\n",
       "      <td>6.0</td>\n",
       "    </tr>\n",
       "    <tr>\n",
       "      <th>1</th>\n",
       "      <td>2.0</td>\n",
       "      <td>0.0</td>\n",
       "      <td>1.0</td>\n",
       "      <td>2</td>\n",
       "      <td>4.58</td>\n",
       "      <td>3.788</td>\n",
       "      <td>4.1840</td>\n",
       "      <td>20.35</td>\n",
       "      <td>1</td>\n",
       "      <td>5.0</td>\n",
       "    </tr>\n",
       "    <tr>\n",
       "      <th>2</th>\n",
       "      <td>4.0</td>\n",
       "      <td>1.0</td>\n",
       "      <td>0.0</td>\n",
       "      <td>1</td>\n",
       "      <td>3.20</td>\n",
       "      <td>2.877</td>\n",
       "      <td>3.0385</td>\n",
       "      <td>56.01</td>\n",
       "      <td>1</td>\n",
       "      <td>6.0</td>\n",
       "    </tr>\n",
       "    <tr>\n",
       "      <th>3</th>\n",
       "      <td>4.0</td>\n",
       "      <td>2.0</td>\n",
       "      <td>0.0</td>\n",
       "      <td>2</td>\n",
       "      <td>4.15</td>\n",
       "      <td>4.008</td>\n",
       "      <td>4.0790</td>\n",
       "      <td>66.62</td>\n",
       "      <td>1</td>\n",
       "      <td>8.0</td>\n",
       "    </tr>\n",
       "    <tr>\n",
       "      <th>4</th>\n",
       "      <td>4.0</td>\n",
       "      <td>2.0</td>\n",
       "      <td>0.0</td>\n",
       "      <td>1</td>\n",
       "      <td>3.13</td>\n",
       "      <td>2.827</td>\n",
       "      <td>2.9785</td>\n",
       "      <td>69.71</td>\n",
       "      <td>0</td>\n",
       "      <td>7.0</td>\n",
       "    </tr>\n",
       "    <tr>\n",
       "      <th>...</th>\n",
       "      <td>...</td>\n",
       "      <td>...</td>\n",
       "      <td>...</td>\n",
       "      <td>...</td>\n",
       "      <td>...</td>\n",
       "      <td>...</td>\n",
       "      <td>...</td>\n",
       "      <td>...</td>\n",
       "      <td>...</td>\n",
       "      <td>...</td>\n",
       "    </tr>\n",
       "    <tr>\n",
       "      <th>652</th>\n",
       "      <td>6.0</td>\n",
       "      <td>3.0</td>\n",
       "      <td>2.0</td>\n",
       "      <td>2</td>\n",
       "      <td>4.00</td>\n",
       "      <td>4.850</td>\n",
       "      <td>4.4242</td>\n",
       "      <td>63.16</td>\n",
       "      <td>1</td>\n",
       "      <td>13.0</td>\n",
       "    </tr>\n",
       "    <tr>\n",
       "      <th>653</th>\n",
       "      <td>3.0</td>\n",
       "      <td>1.0</td>\n",
       "      <td>0.0</td>\n",
       "      <td>2</td>\n",
       "      <td>3.08</td>\n",
       "      <td>3.470</td>\n",
       "      <td>3.2775</td>\n",
       "      <td>35.11</td>\n",
       "      <td>1</td>\n",
       "      <td>6.0</td>\n",
       "    </tr>\n",
       "    <tr>\n",
       "      <th>654</th>\n",
       "      <td>1.0</td>\n",
       "      <td>1.0</td>\n",
       "      <td>1.0</td>\n",
       "      <td>2</td>\n",
       "      <td>3.92</td>\n",
       "      <td>3.950</td>\n",
       "      <td>3.9360</td>\n",
       "      <td>21.39</td>\n",
       "      <td>1</td>\n",
       "      <td>5.0</td>\n",
       "    </tr>\n",
       "    <tr>\n",
       "      <th>655</th>\n",
       "      <td>6.0</td>\n",
       "      <td>3.0</td>\n",
       "      <td>2.0</td>\n",
       "      <td>2</td>\n",
       "      <td>4.68</td>\n",
       "      <td>3.040</td>\n",
       "      <td>3.8613</td>\n",
       "      <td>24.07</td>\n",
       "      <td>1</td>\n",
       "      <td>13.0</td>\n",
       "    </tr>\n",
       "    <tr>\n",
       "      <th>656</th>\n",
       "      <td>6.0</td>\n",
       "      <td>3.0</td>\n",
       "      <td>2.0</td>\n",
       "      <td>1</td>\n",
       "      <td>2.58</td>\n",
       "      <td>3.320</td>\n",
       "      <td>2.9484</td>\n",
       "      <td>60.23</td>\n",
       "      <td>0</td>\n",
       "      <td>12.0</td>\n",
       "    </tr>\n",
       "  </tbody>\n",
       "</table>\n",
       "<p>657 rows × 10 columns</p>\n",
       "</div>"
      ],
      "text/plain": [
       "     Error1  Error2  Error3  Aceptado  Parcial1  Parcial2   Final  Tiempo  \\\n",
       "0       3.0     1.0     0.0         2      3.00     3.000  3.0000   48.97   \n",
       "1       2.0     0.0     1.0         2      4.58     3.788  4.1840   20.35   \n",
       "2       4.0     1.0     0.0         1      3.20     2.877  3.0385   56.01   \n",
       "3       4.0     2.0     0.0         2      4.15     4.008  4.0790   66.62   \n",
       "4       4.0     2.0     0.0         1      3.13     2.827  2.9785   69.71   \n",
       "..      ...     ...     ...       ...       ...       ...     ...     ...   \n",
       "652     6.0     3.0     2.0         2      4.00     4.850  4.4242   63.16   \n",
       "653     3.0     1.0     0.0         2      3.08     3.470  3.2775   35.11   \n",
       "654     1.0     1.0     1.0         2      3.92     3.950  3.9360   21.39   \n",
       "655     6.0     3.0     2.0         2      4.68     3.040  3.8613   24.07   \n",
       "656     6.0     3.0     2.0         1      2.58     3.320  2.9484   60.23   \n",
       "\n",
       "     GanaCurso  Entregas  \n",
       "0            1       6.0  \n",
       "1            1       5.0  \n",
       "2            1       6.0  \n",
       "3            1       8.0  \n",
       "4            0       7.0  \n",
       "..         ...       ...  \n",
       "652          1      13.0  \n",
       "653          1       6.0  \n",
       "654          1       5.0  \n",
       "655          1      13.0  \n",
       "656          0      12.0  \n",
       "\n",
       "[657 rows x 10 columns]"
      ]
     },
     "execution_count": 6,
     "metadata": {},
     "output_type": "execute_result"
    }
   ],
   "source": [
    "datos"
   ]
  },
  {
   "cell_type": "markdown",
   "id": "3656d4f1",
   "metadata": {},
   "source": [
    "# Visualización de datos"
   ]
  },
  {
   "cell_type": "code",
   "execution_count": 7,
   "id": "3b0d2a9c",
   "metadata": {},
   "outputs": [
    {
     "data": {
      "image/png": "[encoded data removed]",
      "text/plain": [
       "<Figure size 1440x720 with 12 Axes>"
      ]
     },
     "metadata": {
      "needs_background": "light"
     },
     "output_type": "display_data"
    }
   ],
   "source": [
    "datos.hist(bins=30,figsize=(20,10), color = 'y')\n",
    "plt.show()"
   ]
  },
  {
   "cell_type": "markdown",
   "id": "de324c5a",
   "metadata": {},
   "source": [
    "## Eliminamos las columnas que no se utilizan\n",
    "* Para un primer analisis trabajamos con las columnas 'Envios' y 'Final'"
   ]
  },
  {
   "cell_type": "code",
   "execution_count": 10,
   "id": "91b18534",
   "metadata": {},
   "outputs": [
    {
     "name": "stdout",
     "output_type": "stream",
     "text": [
      "Index(['Error1', 'Error2', 'Error3', 'Aceptado', 'Parcial1', 'Parcial2',\n",
      "       'Final', 'Tiempo', 'GanaCurso', 'Entregas'],\n",
      "      dtype='object')\n"
     ]
    }
   ],
   "source": [
    "#datos.describe()\n",
    "print(datos.columns)"
   ]
  },
  {
   "cell_type": "code",
   "execution_count": 11,
   "id": "4b8ee2ce",
   "metadata": {},
   "outputs": [
    {
     "data": {
      "text/html": [
       "<div>\n",
       "<style scoped>\n",
       "    .dataframe tbody tr th:only-of-type {\n",
       "        vertical-align: middle;\n",
       "    }\n",
       "\n",
       "    .dataframe tbody tr th {\n",
       "        vertical-align: top;\n",
       "    }\n",
       "\n",
       "    .dataframe thead th {\n",
       "        text-align: right;\n",
       "    }\n",
       "</style>\n",
       "<table border=\"1\" class=\"dataframe\">\n",
       "  <thead>\n",
       "    <tr style=\"text-align: right;\">\n",
       "      <th></th>\n",
       "      <th>Final</th>\n",
       "      <th>Entregas</th>\n",
       "    </tr>\n",
       "  </thead>\n",
       "  <tbody>\n",
       "    <tr>\n",
       "      <th>0</th>\n",
       "      <td>3.0000</td>\n",
       "      <td>6.0</td>\n",
       "    </tr>\n",
       "    <tr>\n",
       "      <th>1</th>\n",
       "      <td>4.1840</td>\n",
       "      <td>5.0</td>\n",
       "    </tr>\n",
       "    <tr>\n",
       "      <th>2</th>\n",
       "      <td>3.0385</td>\n",
       "      <td>6.0</td>\n",
       "    </tr>\n",
       "    <tr>\n",
       "      <th>3</th>\n",
       "      <td>4.0790</td>\n",
       "      <td>8.0</td>\n",
       "    </tr>\n",
       "    <tr>\n",
       "      <th>4</th>\n",
       "      <td>2.9785</td>\n",
       "      <td>7.0</td>\n",
       "    </tr>\n",
       "    <tr>\n",
       "      <th>...</th>\n",
       "      <td>...</td>\n",
       "      <td>...</td>\n",
       "    </tr>\n",
       "    <tr>\n",
       "      <th>652</th>\n",
       "      <td>4.4242</td>\n",
       "      <td>13.0</td>\n",
       "    </tr>\n",
       "    <tr>\n",
       "      <th>653</th>\n",
       "      <td>3.2775</td>\n",
       "      <td>6.0</td>\n",
       "    </tr>\n",
       "    <tr>\n",
       "      <th>654</th>\n",
       "      <td>3.9360</td>\n",
       "      <td>5.0</td>\n",
       "    </tr>\n",
       "    <tr>\n",
       "      <th>655</th>\n",
       "      <td>3.8613</td>\n",
       "      <td>13.0</td>\n",
       "    </tr>\n",
       "    <tr>\n",
       "      <th>656</th>\n",
       "      <td>2.9484</td>\n",
       "      <td>12.0</td>\n",
       "    </tr>\n",
       "  </tbody>\n",
       "</table>\n",
       "<p>657 rows × 2 columns</p>\n",
       "</div>"
      ],
      "text/plain": [
       "      Final  Entregas\n",
       "0    3.0000       6.0\n",
       "1    4.1840       5.0\n",
       "2    3.0385       6.0\n",
       "3    4.0790       8.0\n",
       "4    2.9785       7.0\n",
       "..      ...       ...\n",
       "652  4.4242      13.0\n",
       "653  3.2775       6.0\n",
       "654  3.9360       5.0\n",
       "655  3.8613      13.0\n",
       "656  2.9484      12.0\n",
       "\n",
       "[657 rows x 2 columns]"
      ]
     },
     "execution_count": 11,
     "metadata": {},
     "output_type": "execute_result"
    }
   ],
   "source": [
    "datos = datos.drop([\n",
    "'Error1', 'Error2', 'Error3', 'Aceptado', 'Parcial1', 'Parcial2',\n",
    "       'Tiempo', 'GanaCurso'\n",
    "], axis=1)\n",
    "datos"
   ]
  },
  {
   "cell_type": "markdown",
   "id": "25162c50",
   "metadata": {},
   "source": [
    "## Se eliminan los datos nulos"
   ]
  },
  {
   "cell_type": "code",
   "execution_count": 12,
   "id": "8f5f7e23",
   "metadata": {},
   "outputs": [
    {
     "data": {
      "text/html": [
       "<div>\n",
       "<style scoped>\n",
       "    .dataframe tbody tr th:only-of-type {\n",
       "        vertical-align: middle;\n",
       "    }\n",
       "\n",
       "    .dataframe tbody tr th {\n",
       "        vertical-align: top;\n",
       "    }\n",
       "\n",
       "    .dataframe thead th {\n",
       "        text-align: right;\n",
       "    }\n",
       "</style>\n",
       "<table border=\"1\" class=\"dataframe\">\n",
       "  <thead>\n",
       "    <tr style=\"text-align: right;\">\n",
       "      <th></th>\n",
       "      <th>Final</th>\n",
       "      <th>Entregas</th>\n",
       "    </tr>\n",
       "  </thead>\n",
       "  <tbody>\n",
       "    <tr>\n",
       "      <th>0</th>\n",
       "      <td>3.0000</td>\n",
       "      <td>6.0</td>\n",
       "    </tr>\n",
       "    <tr>\n",
       "      <th>1</th>\n",
       "      <td>4.1840</td>\n",
       "      <td>5.0</td>\n",
       "    </tr>\n",
       "    <tr>\n",
       "      <th>2</th>\n",
       "      <td>3.0385</td>\n",
       "      <td>6.0</td>\n",
       "    </tr>\n",
       "    <tr>\n",
       "      <th>3</th>\n",
       "      <td>4.0790</td>\n",
       "      <td>8.0</td>\n",
       "    </tr>\n",
       "    <tr>\n",
       "      <th>4</th>\n",
       "      <td>2.9785</td>\n",
       "      <td>7.0</td>\n",
       "    </tr>\n",
       "    <tr>\n",
       "      <th>...</th>\n",
       "      <td>...</td>\n",
       "      <td>...</td>\n",
       "    </tr>\n",
       "    <tr>\n",
       "      <th>652</th>\n",
       "      <td>4.4242</td>\n",
       "      <td>13.0</td>\n",
       "    </tr>\n",
       "    <tr>\n",
       "      <th>653</th>\n",
       "      <td>3.2775</td>\n",
       "      <td>6.0</td>\n",
       "    </tr>\n",
       "    <tr>\n",
       "      <th>654</th>\n",
       "      <td>3.9360</td>\n",
       "      <td>5.0</td>\n",
       "    </tr>\n",
       "    <tr>\n",
       "      <th>655</th>\n",
       "      <td>3.8613</td>\n",
       "      <td>13.0</td>\n",
       "    </tr>\n",
       "    <tr>\n",
       "      <th>656</th>\n",
       "      <td>2.9484</td>\n",
       "      <td>12.0</td>\n",
       "    </tr>\n",
       "  </tbody>\n",
       "</table>\n",
       "<p>657 rows × 2 columns</p>\n",
       "</div>"
      ],
      "text/plain": [
       "      Final  Entregas\n",
       "0    3.0000       6.0\n",
       "1    4.1840       5.0\n",
       "2    3.0385       6.0\n",
       "3    4.0790       8.0\n",
       "4    2.9785       7.0\n",
       "..      ...       ...\n",
       "652  4.4242      13.0\n",
       "653  3.2775       6.0\n",
       "654  3.9360       5.0\n",
       "655  3.8613      13.0\n",
       "656  2.9484      12.0\n",
       "\n",
       "[657 rows x 2 columns]"
      ]
     },
     "execution_count": 12,
     "metadata": {},
     "output_type": "execute_result"
    }
   ],
   "source": [
    "datos = datos.dropna() #eliminar datos (filas) NaN\n",
    "datos"
   ]
  },
  {
   "cell_type": "code",
   "execution_count": 15,
   "id": "1f1da55d",
   "metadata": {},
   "outputs": [
    {
     "data": {
      "image/png": "[encoded data removed]",
      "text/plain": [
       "<Figure size 432x288 with 1 Axes>"
      ]
     },
     "metadata": {
      "needs_background": "light"
     },
     "output_type": "display_data"
    }
   ],
   "source": [
    "datos.plot.scatter(x='Entregas', y='Final');"
   ]
  },
  {
   "cell_type": "markdown",
   "id": "92511731",
   "metadata": {},
   "source": [
    "# Creación del modelo"
   ]
  },
  {
   "cell_type": "code",
   "execution_count": 16,
   "id": "ebdad8c6",
   "metadata": {},
   "outputs": [],
   "source": [
    "X = np.array(datos.drop(['Final'],1)) #Quita etiqueta Tiempo al nuevo dataset X\n",
    "Y = np.array(datos['Final']) #pone la etiqueta Tiempo al nuevo dataset Y"
   ]
  },
  {
   "cell_type": "code",
   "execution_count": 17,
   "id": "a55eb4b1",
   "metadata": {},
   "outputs": [],
   "source": [
    "X_train, X_test, Y_train, Y_test = train_test_split(X,Y, test_size=0.3)"
   ]
  },
  {
   "cell_type": "code",
   "execution_count": 18,
   "id": "ec8647c0",
   "metadata": {},
   "outputs": [],
   "source": [
    "regr = linear_model.LinearRegression()\n",
    "regr.fit(X_train, Y_train)\n",
    "Y_pred = regr.predict(X_test)"
   ]
  },
  {
   "cell_type": "markdown",
   "id": "fb87a1b2",
   "metadata": {},
   "source": [
    "# Validación del modelo"
   ]
  },
  {
   "cell_type": "code",
   "execution_count": 19,
   "id": "698e94c8",
   "metadata": {},
   "outputs": [
    {
     "data": {
      "text/plain": [
       "0.00899546782015681"
      ]
     },
     "execution_count": 19,
     "metadata": {},
     "output_type": "execute_result"
    }
   ],
   "source": [
    "regr.score(X,Y)"
   ]
  },
  {
   "cell_type": "markdown",
   "id": "54231737",
   "metadata": {},
   "source": [
    "# Regresion lineal"
   ]
  },
  {
   "cell_type": "code",
   "execution_count": 20,
   "id": "16c326b3",
   "metadata": {},
   "outputs": [
    {
     "name": "stdout",
     "output_type": "stream",
     "text": [
      "Coefficients: 0.02\n",
      "Coefficient of determination: -0.00\n",
      "Mean Absolute Error: 0.41\n",
      "Mean Squared Error: 0.26\n",
      "Root Mean Squared Error: 0.51\n"
     ]
    }
   ],
   "source": [
    "from sklearn import metrics\n",
    "# The coefficients: 1 is perfect prediction\n",
    "print('Coefficients: %.2f' % regr.coef_)\n",
    "# The coefficient of determination: 1 is perfect prediction\n",
    "print('Coefficient of determination: %.2f' % r2_score(Y_test, Y_pred))\n",
    "print('Mean Absolute Error: %.2f' % metrics.mean_absolute_error(Y_test, Y_pred))\n",
    "print('Mean Squared Error: %.2f' % metrics.mean_squared_error(Y_test, Y_pred))\n",
    "print('Root Mean Squared Error: %.2f'% np.sqrt(metrics.mean_squared_error(Y_test, Y_pred)))"
   ]
  },
  {
   "cell_type": "markdown",
   "id": "2163c458",
   "metadata": {},
   "source": [
    "# Reporte de resultados"
   ]
  },
  {
   "cell_type": "markdown",
   "id": "74e96093",
   "metadata": {},
   "source": [
    "## Datos de entrenamiento"
   ]
  },
  {
   "cell_type": "code",
   "execution_count": 21,
   "id": "79c81b3b",
   "metadata": {},
   "outputs": [
    {
     "data": {
      "image/png": "[encoded data removed]",
      "text/plain": [
       "<Figure size 432x288 with 1 Axes>"
      ]
     },
     "metadata": {
      "needs_background": "light"
     },
     "output_type": "display_data"
    }
   ],
   "source": [
    "plt.scatter(X_train, Y_train,  color='blue')\n",
    "plt.plot(X_test, Y_pred, color='orange', linewidth=3)\n",
    "plt.title('Envios vs Nota Final')\n",
    "plt.xlabel('Envios')\n",
    "plt.ylabel('Nota final')\n",
    "plt.grid(color='g', linestyle='dotted', linewidth=1)\n",
    "plt.show()"
   ]
  },
  {
   "cell_type": "markdown",
   "id": "20a093a1",
   "metadata": {},
   "source": [
    "## Datos de prueba"
   ]
  },
  {
   "cell_type": "code",
   "execution_count": 22,
   "id": "aa61e82d",
   "metadata": {},
   "outputs": [
    {
     "data": {
      "image/png": "[encoded data removed]",
      "text/plain": [
       "<Figure size 432x288 with 1 Axes>"
      ]
     },
     "metadata": {
      "needs_background": "light"
     },
     "output_type": "display_data"
    }
   ],
   "source": [
    "plt.scatter(X_test, Y_test,  color='green')\n",
    "plt.plot(X_test, Y_pred, color='orange', linewidth=3)\n",
    "plt.title('Tiempo vs Nota Final')\n",
    "plt.xlabel('Envios')\n",
    "plt.ylabel('Nota final')\n",
    "plt.grid(color='r', linestyle='dotted', linewidth=1)\n",
    "plt.show()"
   ]
  },
  {
   "cell_type": "markdown",
   "id": "b27d7b48",
   "metadata": {},
   "source": [
    "# Clasificación de nuevos registros"
   ]
  },
  {
   "cell_type": "code",
   "execution_count": 23,
   "id": "7c8ac9e1",
   "metadata": {},
   "outputs": [
    {
     "name": "stdout",
     "output_type": "stream",
     "text": [
      "Nota promedio  3.66 \n"
     ]
    }
   ],
   "source": [
    "X_new = pd.DataFrame({'Tiempo': [2]})\n",
    "regr.predict(X_new).astype(float)\n",
    "print('Nota promedio  %.2f ' % regr.predict(X_new).astype(float))"
   ]
  }
 ],
 "metadata": {
  "hide_input": false,
  "kernelspec": {
   "display_name": "Python 3",
   "language": "python",
   "name": "python3"
  },
  "language_info": {
   "codemirror_mode": {
    "name": "ipython",
    "version": 3
   },
   "file_extension": ".py",
   "mimetype": "text/x-python",
   "name": "python",
   "nbconvert_exporter": "python",
   "pygments_lexer": "ipython3",
   "version": "3.8.5"
  },
  "toc": {
   "base_numbering": 1,
   "nav_menu": {},
   "number_sections": true,
   "sideBar": true,
   "skip_h1_title": false,
   "title_cell": "Table of Contents",
   "title_sidebar": "Contents",
   "toc_cell": false,
   "toc_position": {},
   "toc_section_display": true,
   "toc_window_display": false
  },
  "varInspector": {
   "cols": {
    "lenName": 16,
    "lenType": 16,
    "lenVar": 40
   },
   "kernels_config": {
    "python": {
     "delete_cmd_postfix": "",
     "delete_cmd_prefix": "del ",
     "library": "var_list.py",
     "varRefreshCmd": "print(var_dic_list())"
    },
    "r": {
     "delete_cmd_postfix": ") ",
     "delete_cmd_prefix": "rm(",
     "library": "var_list.r",
     "varRefreshCmd": "cat(var_dic_list()) "
    }
   },
   "types_to_exclude": [
    "module",
    "function",
    "builtin_function_or_method",
    "instance",
    "_Feature"
   ],
   "window_display": false
  }
 },
 "nbformat": 4,
 "nbformat_minor": 5
}
