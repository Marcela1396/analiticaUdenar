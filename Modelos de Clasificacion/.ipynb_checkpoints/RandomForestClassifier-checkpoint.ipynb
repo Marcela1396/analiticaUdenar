{
 "cells": [
  {
   "cell_type": "markdown",
   "id": "7cd6f5e4",
   "metadata": {},
   "source": [
    "# ✨Bienvenidos✨ <img src=\"https://raw.githubusercontent.com/cgiohidalgo/JupyterHub-nbgrader/main/logo.png\" alt=\"udenar\" width=\"180\"/>\n",
    "<div style=\"text-align: center\"> MODULO DE ANALÍTICA DE DATOS</div>\n",
    "<div style=\"text-align: center\"> Maestría de Ingeniería de Sistemas y Computación </div>\n",
    " <div style=\"text-align: center\">Victor Bucheli (victor.bucheli@correounivalle.edu.co) - Giovanny Hidalgo (carlos.hidalgo@correounivalle.edu.co)\n",
    "</div>\n",
    "\n",
    "\n",
    "\n",
    "\n"
   ]
  },
  {
   "cell_type": "markdown",
   "id": "1fa777ff",
   "metadata": {},
   "source": [
    "## _Proyecto Final Analitica de Datos..._\n",
    "\n",
    "- Presentado por: Sandra Marcela Guerrero Calvache, Juan David Delgado, Wilmer Escobar."
   ]
  },
  {
   "cell_type": "code",
   "execution_count": 1,
   "id": "24067254",
   "metadata": {},
   "outputs": [],
   "source": [
    "# Tratamiento de datos\n",
    "# ==============================================================================\n",
    "import pandas as pd\n",
    "import numpy as np\n",
    "\n",
    "# Gráficos\n",
    "# ==============================================================================\n",
    "import matplotlib.pyplot as plt\n",
    "from matplotlib import style\n",
    "import seaborn as sns\n",
    "#from sklearn import tree\n",
    "\n",
    "#\n",
    "# ==============================================================================\n",
    "import graphviz #libreria de garficos que se une a matplotlib\n",
    "from io import StringIO #entrada y salida de datos png\n",
    "from IPython.display import Image  #graficar con colores\n",
    "from sklearn.tree import export_graphviz #crear graficos de Tree\n",
    "import pydotplus  #exportar graficos \n",
    "import six   # sklearn.externals.six\n",
    "import sys   # sklearn.externals.six\n",
    "sys.modules['sklearn.externals.six'] = six # sklearn.externals.six\n",
    "\n",
    "# Preprocesado y modelado\n",
    "# ==============================================================================\n",
    "from sklearn.ensemble import RandomForestClassifier\n",
    "from sklearn.datasets import make_classification\n",
    "from sklearn.model_selection import train_test_split # Import train_test_split function\n",
    "from sklearn import metrics #Import scikit-learn metrics module for accuracy calculation\n",
    "from sklearn import preprocessing\n",
    "from sklearn.metrics import confusion_matrix\n",
    "from sklearn.metrics import classification_report\n",
    "from sklearn.metrics import roc_auc_score, roc_curve\n"
   ]
  },
  {
   "cell_type": "markdown",
   "id": "1b71b6d9",
   "metadata": {},
   "source": [
    "# Cargar datos"
   ]
  },
  {
   "cell_type": "code",
   "execution_count": 2,
   "id": "23fc234f",
   "metadata": {},
   "outputs": [],
   "source": [
    "datos = pd.read_csv(\"estudiantes_final.csv\")"
   ]
  },
  {
   "cell_type": "code",
   "execution_count": 3,
   "id": "8e623cfa",
   "metadata": {},
   "outputs": [
    {
     "data": {
      "text/html": [
       "<div>\n",
       "<style scoped>\n",
       "    .dataframe tbody tr th:only-of-type {\n",
       "        vertical-align: middle;\n",
       "    }\n",
       "\n",
       "    .dataframe tbody tr th {\n",
       "        vertical-align: top;\n",
       "    }\n",
       "\n",
       "    .dataframe thead th {\n",
       "        text-align: right;\n",
       "    }\n",
       "</style>\n",
       "<table border=\"1\" class=\"dataframe\">\n",
       "  <thead>\n",
       "    <tr style=\"text-align: right;\">\n",
       "      <th></th>\n",
       "      <th>Error1</th>\n",
       "      <th>Error2</th>\n",
       "      <th>Error3</th>\n",
       "      <th>Aceptado</th>\n",
       "      <th>Parcial1</th>\n",
       "      <th>Parcial2</th>\n",
       "      <th>Final</th>\n",
       "      <th>Tiempo</th>\n",
       "      <th>GanaCurso</th>\n",
       "      <th>Entregas</th>\n",
       "    </tr>\n",
       "  </thead>\n",
       "  <tbody>\n",
       "    <tr>\n",
       "      <th>0</th>\n",
       "      <td>3.0</td>\n",
       "      <td>1.0</td>\n",
       "      <td>0.0</td>\n",
       "      <td>2</td>\n",
       "      <td>3.00</td>\n",
       "      <td>3.000</td>\n",
       "      <td>3.0000</td>\n",
       "      <td>48.97</td>\n",
       "      <td>1</td>\n",
       "      <td>6.0</td>\n",
       "    </tr>\n",
       "    <tr>\n",
       "      <th>1</th>\n",
       "      <td>2.0</td>\n",
       "      <td>0.0</td>\n",
       "      <td>1.0</td>\n",
       "      <td>2</td>\n",
       "      <td>4.58</td>\n",
       "      <td>3.788</td>\n",
       "      <td>4.1840</td>\n",
       "      <td>20.35</td>\n",
       "      <td>1</td>\n",
       "      <td>5.0</td>\n",
       "    </tr>\n",
       "    <tr>\n",
       "      <th>2</th>\n",
       "      <td>4.0</td>\n",
       "      <td>1.0</td>\n",
       "      <td>0.0</td>\n",
       "      <td>1</td>\n",
       "      <td>3.20</td>\n",
       "      <td>2.877</td>\n",
       "      <td>3.0385</td>\n",
       "      <td>56.01</td>\n",
       "      <td>1</td>\n",
       "      <td>6.0</td>\n",
       "    </tr>\n",
       "    <tr>\n",
       "      <th>3</th>\n",
       "      <td>4.0</td>\n",
       "      <td>2.0</td>\n",
       "      <td>0.0</td>\n",
       "      <td>2</td>\n",
       "      <td>4.15</td>\n",
       "      <td>4.008</td>\n",
       "      <td>4.0790</td>\n",
       "      <td>66.62</td>\n",
       "      <td>1</td>\n",
       "      <td>8.0</td>\n",
       "    </tr>\n",
       "    <tr>\n",
       "      <th>4</th>\n",
       "      <td>4.0</td>\n",
       "      <td>2.0</td>\n",
       "      <td>0.0</td>\n",
       "      <td>1</td>\n",
       "      <td>3.13</td>\n",
       "      <td>2.827</td>\n",
       "      <td>2.9785</td>\n",
       "      <td>69.71</td>\n",
       "      <td>0</td>\n",
       "      <td>7.0</td>\n",
       "    </tr>\n",
       "    <tr>\n",
       "      <th>...</th>\n",
       "      <td>...</td>\n",
       "      <td>...</td>\n",
       "      <td>...</td>\n",
       "      <td>...</td>\n",
       "      <td>...</td>\n",
       "      <td>...</td>\n",
       "      <td>...</td>\n",
       "      <td>...</td>\n",
       "      <td>...</td>\n",
       "      <td>...</td>\n",
       "    </tr>\n",
       "    <tr>\n",
       "      <th>652</th>\n",
       "      <td>6.0</td>\n",
       "      <td>3.0</td>\n",
       "      <td>2.0</td>\n",
       "      <td>2</td>\n",
       "      <td>4.00</td>\n",
       "      <td>4.850</td>\n",
       "      <td>4.4242</td>\n",
       "      <td>63.16</td>\n",
       "      <td>1</td>\n",
       "      <td>13.0</td>\n",
       "    </tr>\n",
       "    <tr>\n",
       "      <th>653</th>\n",
       "      <td>3.0</td>\n",
       "      <td>1.0</td>\n",
       "      <td>0.0</td>\n",
       "      <td>2</td>\n",
       "      <td>3.08</td>\n",
       "      <td>3.470</td>\n",
       "      <td>3.2775</td>\n",
       "      <td>35.11</td>\n",
       "      <td>1</td>\n",
       "      <td>6.0</td>\n",
       "    </tr>\n",
       "    <tr>\n",
       "      <th>654</th>\n",
       "      <td>1.0</td>\n",
       "      <td>1.0</td>\n",
       "      <td>1.0</td>\n",
       "      <td>2</td>\n",
       "      <td>3.92</td>\n",
       "      <td>3.950</td>\n",
       "      <td>3.9360</td>\n",
       "      <td>21.39</td>\n",
       "      <td>1</td>\n",
       "      <td>5.0</td>\n",
       "    </tr>\n",
       "    <tr>\n",
       "      <th>655</th>\n",
       "      <td>6.0</td>\n",
       "      <td>3.0</td>\n",
       "      <td>2.0</td>\n",
       "      <td>2</td>\n",
       "      <td>4.68</td>\n",
       "      <td>3.040</td>\n",
       "      <td>3.8613</td>\n",
       "      <td>24.07</td>\n",
       "      <td>1</td>\n",
       "      <td>13.0</td>\n",
       "    </tr>\n",
       "    <tr>\n",
       "      <th>656</th>\n",
       "      <td>6.0</td>\n",
       "      <td>3.0</td>\n",
       "      <td>2.0</td>\n",
       "      <td>1</td>\n",
       "      <td>2.58</td>\n",
       "      <td>3.320</td>\n",
       "      <td>2.9484</td>\n",
       "      <td>60.23</td>\n",
       "      <td>0</td>\n",
       "      <td>12.0</td>\n",
       "    </tr>\n",
       "  </tbody>\n",
       "</table>\n",
       "<p>657 rows × 10 columns</p>\n",
       "</div>"
      ],
      "text/plain": [
       "     Error1  Error2  Error3  Aceptado  Parcial1  Parcial2   Final  Tiempo  \\\n",
       "0       3.0     1.0     0.0         2      3.00     3.000  3.0000   48.97   \n",
       "1       2.0     0.0     1.0         2      4.58     3.788  4.1840   20.35   \n",
       "2       4.0     1.0     0.0         1      3.20     2.877  3.0385   56.01   \n",
       "3       4.0     2.0     0.0         2      4.15     4.008  4.0790   66.62   \n",
       "4       4.0     2.0     0.0         1      3.13     2.827  2.9785   69.71   \n",
       "..      ...     ...     ...       ...       ...       ...     ...     ...   \n",
       "652     6.0     3.0     2.0         2      4.00     4.850  4.4242   63.16   \n",
       "653     3.0     1.0     0.0         2      3.08     3.470  3.2775   35.11   \n",
       "654     1.0     1.0     1.0         2      3.92     3.950  3.9360   21.39   \n",
       "655     6.0     3.0     2.0         2      4.68     3.040  3.8613   24.07   \n",
       "656     6.0     3.0     2.0         1      2.58     3.320  2.9484   60.23   \n",
       "\n",
       "     GanaCurso  Entregas  \n",
       "0            1       6.0  \n",
       "1            1       5.0  \n",
       "2            1       6.0  \n",
       "3            1       8.0  \n",
       "4            0       7.0  \n",
       "..         ...       ...  \n",
       "652          1      13.0  \n",
       "653          1       6.0  \n",
       "654          1       5.0  \n",
       "655          1      13.0  \n",
       "656          0      12.0  \n",
       "\n",
       "[657 rows x 10 columns]"
      ]
     },
     "execution_count": 3,
     "metadata": {},
     "output_type": "execute_result"
    }
   ],
   "source": [
    "datos"
   ]
  },
  {
   "cell_type": "markdown",
   "id": "1f951f74",
   "metadata": {},
   "source": [
    "# Visualizar datos"
   ]
  },
  {
   "cell_type": "code",
   "execution_count": 4,
   "id": "cd5a2cff",
   "metadata": {},
   "outputs": [
    {
     "data": {
      "image/png": "[encoded data removed]",
      "text/plain": [
       "<Figure size 432x288 with 1 Axes>"
      ]
     },
     "metadata": {
      "needs_background": "light"
     },
     "output_type": "display_data"
    },
    {
     "data": {
      "text/plain": [
       "GanaCurso\n",
       "1    619\n",
       "0     38\n",
       "dtype: int64"
      ]
     },
     "execution_count": 4,
     "metadata": {},
     "output_type": "execute_result"
    }
   ],
   "source": [
    "sns.countplot(x='GanaCurso',data=datos)\n",
    "plt.title('No Gana vs Gana')\n",
    "plt.show()\n",
    "datos.value_counts(datos['GanaCurso'], sort = True) #comparacion de clase 0=pierde 1=gana"
   ]
  },
  {
   "cell_type": "code",
   "execution_count": 5,
   "id": "7ab22768",
   "metadata": {},
   "outputs": [
    {
     "data": {
      "text/plain": [
       "<AxesSubplot:xlabel='GanaCurso', ylabel='Density'>"
      ]
     },
     "execution_count": 5,
     "metadata": {},
     "output_type": "execute_result"
    },
    {
     "data": {
      "image/png": "[encoded data removed]",
      "text/plain": [
       "<Figure size 432x288 with 1 Axes>"
      ]
     },
     "metadata": {
      "needs_background": "light"
     },
     "output_type": "display_data"
    }
   ],
   "source": [
    "sns.kdeplot(data=datos['GanaCurso'], shade=True)\n"
   ]
  },
  {
   "cell_type": "markdown",
   "id": "ba184455",
   "metadata": {},
   "source": [
    "# Features  y clase "
   ]
  },
  {
   "cell_type": "code",
   "execution_count": 6,
   "id": "06d8b577",
   "metadata": {},
   "outputs": [],
   "source": [
    "#Dividir el dataset in features y la clase[0,1]\n",
    "features = ['Error1', 'Error2', 'Error3', 'Aceptado', 'Parcial1', 'Parcial2','Tiempo'] \n",
    "X = datos[features] # Features\n",
    "y = datos['GanaCurso'] # Target variable"
   ]
  },
  {
   "cell_type": "markdown",
   "id": "fbe25bf0",
   "metadata": {},
   "source": [
    "# Dataset de entranamiento y testeo"
   ]
  },
  {
   "cell_type": "code",
   "execution_count": 7,
   "id": "8e7ebb92",
   "metadata": {},
   "outputs": [],
   "source": [
    "#datos de entreno y testeo\n",
    "X_train, X_test, y_train, y_test = train_test_split(X, y, test_size=0.2)"
   ]
  },
  {
   "cell_type": "markdown",
   "id": "dd9cd5c5",
   "metadata": {},
   "source": [
    "# Crear modelo y entreno (RANDON FOREST)"
   ]
  },
  {
   "cell_type": "code",
   "execution_count": 8,
   "id": "4a33e1b7",
   "metadata": {},
   "outputs": [],
   "source": [
    "# Creaar el modelo \n",
    "modelo = RandomForestClassifier(n_estimators=100)\n",
    "\n",
    "# entretar el modelo\n",
    "modelo = modelo.fit(X_train,y_train)\n",
    "\n",
    "#predecir para el dataset de testeo \n",
    "y_pred = modelo.predict(X_test)"
   ]
  },
  {
   "cell_type": "markdown",
   "id": "a1d49984",
   "metadata": {},
   "source": [
    "# Métricas de diagnóstico\n"
   ]
  },
  {
   "cell_type": "markdown",
   "id": "a13b8958",
   "metadata": {},
   "source": [
    "## Matriz de confusión"
   ]
  },
  {
   "cell_type": "code",
   "execution_count": 9,
   "id": "721d66c2",
   "metadata": {},
   "outputs": [
    {
     "data": {
      "image/png": "[encoded data removed]",
      "text/plain": [
       "<Figure size 576x576 with 2 Axes>"
      ]
     },
     "metadata": {
      "needs_background": "light"
     },
     "output_type": "display_data"
    }
   ],
   "source": [
    "LABELS = [\"Pierde curso\",\"Gana curso\"]\n",
    "def mostrar_resultados(y_test, y_pred):\n",
    "    conf_matrix = confusion_matrix(y_test, y_pred)\n",
    "    plt.figure(figsize=(8, 8))\n",
    "    sns.heatmap(conf_matrix, xticklabels=LABELS, yticklabels=LABELS, annot=True, fmt=\"d\");\n",
    "    plt.title(\"Confusion matrix\")\n",
    "    plt.ylabel('True class (Realidad)')\n",
    "    plt.xlabel('Predicted class (Predicción)')\n",
    "    plt.show()\n",
    "\n",
    "y_pred = modelo.predict(X_test)\n",
    "mostrar_resultados(y_test, y_pred)"
   ]
  },
  {
   "cell_type": "code",
   "execution_count": 10,
   "id": "d8cb5553",
   "metadata": {},
   "outputs": [
    {
     "name": "stdout",
     "output_type": "stream",
     "text": [
      "              precision    recall  f1-score   support\n",
      "\n",
      "           0       1.00      0.57      0.73         7\n",
      "           1       0.98      1.00      0.99       125\n",
      "\n",
      "    accuracy                           0.98       132\n",
      "   macro avg       0.99      0.79      0.86       132\n",
      "weighted avg       0.98      0.98      0.97       132\n",
      "\n"
     ]
    }
   ],
   "source": [
    "print(classification_report(y_test, y_pred))"
   ]
  },
  {
   "cell_type": "markdown",
   "id": "7e3192b6",
   "metadata": {},
   "source": [
    "# prueba diagnóstica (ROC)"
   ]
  },
  {
   "cell_type": "code",
   "execution_count": 11,
   "id": "043fb836",
   "metadata": {},
   "outputs": [
    {
     "name": "stdout",
     "output_type": "stream",
     "text": [
      "ROC SCORE:  0.7857142857142857\n"
     ]
    },
    {
     "data": {
      "image/png": "[encoded data removed]",
      "text/plain": [
       "<Figure size 432x288 with 1 Axes>"
      ]
     },
     "metadata": {
      "needs_background": "light"
     },
     "output_type": "display_data"
    }
   ],
   "source": [
    "pred = modelo.predict(X_test) # predecir utiizando el dataset X_test\n",
    "roc_score = roc_auc_score(y_test,pred) #  clauclar auc con n_samples, n_classes\n",
    "print(\"ROC SCORE: \",roc_score)\n",
    "fpr,tpr,threshold = roc_curve(y_test,pred)\n",
    "plt.clf()\n",
    "plt.plot(fpr,tpr, color='Blue', label='No Skill')\n",
    "plt.xlabel('False Positive Rate (FPR)')\n",
    "plt.ylabel('True Positive Rate (TPR)')\n",
    "plt.title('ROC Curve')\n",
    "plt.show()\n",
    "\n"
   ]
  },
  {
   "cell_type": "markdown",
   "id": "8b35a3a7",
   "metadata": {},
   "source": [
    "# Prueba del modelo\n"
   ]
  },
  {
   "cell_type": "code",
   "execution_count": 12,
   "id": "ff47b320",
   "metadata": {},
   "outputs": [
    {
     "data": {
      "text/plain": [
       "array([0], dtype=int64)"
      ]
     },
     "execution_count": 12,
     "metadata": {},
     "output_type": "execute_result"
    }
   ],
   "source": [
    "modelo.predict([[3,0,2,1,1,3,10]]) #correcto"
   ]
  },
  {
   "cell_type": "code",
   "execution_count": 13,
   "id": "40d28aff",
   "metadata": {},
   "outputs": [
    {
     "data": {
      "text/plain": [
       "array([0], dtype=int64)"
      ]
     },
     "execution_count": 13,
     "metadata": {},
     "output_type": "execute_result"
    }
   ],
   "source": [
    "modelo.predict([[4,2,0,1,3.13,2.827,69.71]])"
   ]
  },
  {
   "cell_type": "code",
   "execution_count": 14,
   "id": "a64fbc17",
   "metadata": {},
   "outputs": [
    {
     "data": {
      "text/plain": [
       "array([0], dtype=int64)"
      ]
     },
     "execution_count": 14,
     "metadata": {},
     "output_type": "execute_result"
    }
   ],
   "source": [
    "modelo.predict([[0,0,9,0,2.5,2.9,19.28]])"
   ]
  },
  {
   "cell_type": "code",
   "execution_count": 15,
   "id": "481c0619",
   "metadata": {},
   "outputs": [
    {
     "data": {
      "text/plain": [
       "array([0], dtype=int64)"
      ]
     },
     "execution_count": 15,
     "metadata": {},
     "output_type": "execute_result"
    }
   ],
   "source": [
    "modelo.predict([[1,1,1,0,1.9,2.9,78]])"
   ]
  },
  {
   "cell_type": "code",
   "execution_count": 16,
   "id": "b7503b47",
   "metadata": {},
   "outputs": [
    {
     "data": {
      "text/plain": [
       "array([1], dtype=int64)"
      ]
     },
     "execution_count": 16,
     "metadata": {},
     "output_type": "execute_result"
    }
   ],
   "source": [
    "modelo.predict([[0,0,0,2,3,3,55.5]])"
   ]
  },
  {
   "cell_type": "code",
   "execution_count": 17,
   "id": "4b35f6b7",
   "metadata": {},
   "outputs": [
    {
     "data": {
      "text/plain": [
       "array([0], dtype=int64)"
      ]
     },
     "execution_count": 17,
     "metadata": {},
     "output_type": "execute_result"
    }
   ],
   "source": [
    "modelo.predict([[10,20,1,0,2,2,90]])"
   ]
  },
  {
   "cell_type": "code",
   "execution_count": 18,
   "id": "618594c3",
   "metadata": {},
   "outputs": [
    {
     "data": {
      "text/plain": [
       "array([1], dtype=int64)"
      ]
     },
     "execution_count": 18,
     "metadata": {},
     "output_type": "execute_result"
    }
   ],
   "source": [
    "modelo.predict([[5,0,1,2,4,4.5,115]])"
   ]
  },
  {
   "cell_type": "code",
   "execution_count": 19,
   "id": "7ab511cc",
   "metadata": {},
   "outputs": [
    {
     "data": {
      "text/plain": [
       "array([1], dtype=int64)"
      ]
     },
     "execution_count": 19,
     "metadata": {},
     "output_type": "execute_result"
    }
   ],
   "source": [
    "modelo.predict([[2,2,2,1,2.5,3.5,80]])"
   ]
  },
  {
   "cell_type": "code",
   "execution_count": 20,
   "id": "1423aad9",
   "metadata": {},
   "outputs": [
    {
     "data": {
      "text/plain": [
       "array([1], dtype=int64)"
      ]
     },
     "execution_count": 20,
     "metadata": {},
     "output_type": "execute_result"
    }
   ],
   "source": [
    "modelo.predict([[5,1,0,1,2.2,5,60.5]])"
   ]
  },
  {
   "cell_type": "code",
   "execution_count": 21,
   "id": "41c3fc14",
   "metadata": {},
   "outputs": [
    {
     "data": {
      "text/plain": [
       "array([0], dtype=int64)"
      ]
     },
     "execution_count": 21,
     "metadata": {},
     "output_type": "execute_result"
    }
   ],
   "source": [
    "modelo.predict([[6,0,0,0,1.89,1.446,52.59]])"
   ]
  }
 ],
 "metadata": {
  "hide_input": false,
  "kernelspec": {
   "display_name": "Python 3",
   "language": "python",
   "name": "python3"
  },
  "language_info": {
   "codemirror_mode": {
    "name": "ipython",
    "version": 3
   },
   "file_extension": ".py",
   "mimetype": "text/x-python",
   "name": "python",
   "nbconvert_exporter": "python",
   "pygments_lexer": "ipython3",
   "version": "3.8.8"
  },
  "toc": {
   "base_numbering": 1,
   "nav_menu": {},
   "number_sections": true,
   "sideBar": true,
   "skip_h1_title": false,
   "title_cell": "Table of Contents",
   "title_sidebar": "Contents",
   "toc_cell": false,
   "toc_position": {},
   "toc_section_display": true,
   "toc_window_display": false
  },
  "varInspector": {
   "cols": {
    "lenName": 16,
    "lenType": 16,
    "lenVar": 40
   },
   "kernels_config": {
    "python": {
     "delete_cmd_postfix": "",
     "delete_cmd_prefix": "del ",
     "library": "var_list.py",
     "varRefreshCmd": "print(var_dic_list())"
    },
    "r": {
     "delete_cmd_postfix": ") ",
     "delete_cmd_prefix": "rm(",
     "library": "var_list.r",
     "varRefreshCmd": "cat(var_dic_list()) "
    }
   },
   "types_to_exclude": [
    "module",
    "function",
    "builtin_function_or_method",
    "instance",
    "_Feature"
   ],
   "window_display": false
  }
 },
 "nbformat": 4,
 "nbformat_minor": 5
}
